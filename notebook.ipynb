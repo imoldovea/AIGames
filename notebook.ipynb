{
 "cells": [
  {
   "metadata": {
    "ExecuteTime": {
     "end_time": "2025-04-23T09:51:56.511452Z",
     "start_time": "2025-04-23T09:51:54.779030Z"
    }
   },
   "cell_type": "code",
   "source": [
    "from maze import Maze\n",
    "import pickle\n",
    "import os\n",
    "import glob\n",
    "\n",
    "#take all .pkl files from the input/ folder and count the number of Maze objects in each one\n",
    "\n",
    "\n",
    "# Path to the folder containing .pkl files\n",
    "input_folder = \"input/\"\n",
    "\n",
    "# Get all .pkl files from the input/ folder\n",
    "pkl_files = glob.glob(f\"{input_folder}/*.pkl\")\n",
    "\n",
    "# Dictionary to store the count of Maze objects for each file\n",
    "maze_counts = {}\n",
    "\n",
    "# Iterate through each .pkl file\n",
    "for file_path in pkl_files:\n",
    "    try:\n",
    "        # Open and load the pickle file\n",
    "        with open(file_path, \"rb\") as file:\n",
    "            data = pickle.load(file)\n",
    "        # Count Maze objects if the file contains a list\n",
    "        if isinstance(data, list):\n",
    "            # Count Maze instances in the list\n",
    "            maze_count = sum(1 for item in data if isinstance(item, Maze))\n",
    "            maze_counts[file_path] = maze_count\n",
    "        else:\n",
    "            # If data is not a list, check if it's a single Maze instance\n",
    "            maze_counts[file_path] = 1 if isinstance(data, Maze) else 0\n",
    "    except Exception as e:\n",
    "        print(f\"Could not process {file_path}: {e}\")\n",
    "\n",
    "# Print the results\n",
    "for file_path, count in maze_counts.items():\n",
    "    print(f\"File '{file_path}' contains {count} Maze object(s)\")\n",
    "\n"
   ],
   "id": "62abf7f0e5df6166",
   "outputs": [
    {
     "name": "stdout",
     "output_type": "stream",
     "text": [
      "File 'input\\mazes.pkl' contains 10 Maze object(s)\n",
      "File 'input\\training_mazes.pkl' contains 1000 Maze object(s)\n",
      "File 'input\\validation_dataset_cache.pkl' contains 0 Maze object(s)\n",
      "File 'input\\validation_mazes.pkl' contains 100 Maze object(s)\n"
     ]
    }
   ],
   "execution_count": 1
  },
  {
   "metadata": {},
   "cell_type": "code",
   "outputs": [],
   "execution_count": null,
   "source": "",
   "id": "16f6c31f6257f53a"
  },
  {
   "metadata": {
    "ExecuteTime": {
     "end_time": "2025-02-28T16:35:03.403084Z",
     "start_time": "2025-02-28T16:35:03.401164Z"
    }
   },
   "cell_type": "code",
   "source": "",
   "id": "2340259d11cff8c3",
   "outputs": [],
   "execution_count": null
  }
 ],
 "metadata": {
  "kernelspec": {
   "display_name": "Python 3",
   "language": "python",
   "name": "python3"
  },
  "language_info": {
   "codemirror_mode": {
    "name": "ipython",
    "version": 2
   },
   "file_extension": ".py",
   "mimetype": "text/x-python",
   "name": "python",
   "nbconvert_exporter": "python",
   "pygments_lexer": "ipython2",
   "version": "2.7.6"
  }
 },
 "nbformat": 4,
 "nbformat_minor": 5
}
